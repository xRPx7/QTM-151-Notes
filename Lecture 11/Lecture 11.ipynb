{
 "cells": [
  {
   "attachments": {},
   "cell_type": "markdown",
   "metadata": {},
   "source": [
    "# <span style=\"color:darkblue\"> Lecture 11: Application 1 - Linear Regression </span>\n",
    "\n",
    "<font size = \"5\">\n",
    "\n",
    "We will fit statistical models to data\n",
    "\n",
    "- I will give an intro with minimal stats background\n",
    "- See the optional lecture file for advanced users\n",
    "\n",
    "The primary goal is to practice previous commands"
   ]
  },
  {
   "attachments": {},
   "cell_type": "markdown",
   "metadata": {},
   "source": [
    "# <span style=\"color:darkblue\"> I. Import Libraries </span>\n"
   ]
  },
  {
   "cell_type": "code",
   "execution_count": 39,
   "metadata": {},
   "outputs": [],
   "source": [
    "# The \"pandas\" library is used for processing datasets\n",
    "# The \"numpy\" is for numeric observations and random numbers\n",
    "# The \"matplotlib.pyplot\" library is for creating graphs\n",
    "\n",
    "import pandas as pd\n",
    "import numpy as np\n",
    "import matplotlib.pyplot as plt"
   ]
  },
  {
   "attachments": {},
   "cell_type": "markdown",
   "metadata": {},
   "source": [
    "<font size = \"5\">\n",
    "\n",
    "Install the \"statsmodels\" library\n",
    "- Run \"pip3 install statsmodels\" in the terminal\n",
    "- Automatically included in Anaconda"
   ]
  },
  {
   "cell_type": "code",
   "execution_count": 40,
   "metadata": {},
   "outputs": [],
   "source": [
    "# We will \"alias\" two sublibraries in \"statsmodels\"\n",
    "# \"statsmodels.formula.api\" contains functions to estimate models\n",
    "# \"statsmodels.api\" contains general-use statistical options\n",
    "\n",
    "import statsmodels.api as sm\n",
    "import statsmodels.formula.api as smf\n"
   ]
  },
  {
   "attachments": {},
   "cell_type": "markdown",
   "metadata": {},
   "source": [
    "# <span style=\"color:darkblue\"> II. Generate simulated Data </span>\n",
    "\n",
    "<font size = \"5\">\n",
    "\n",
    "Create an empty dataset"
   ]
  },
  {
   "cell_type": "code",
   "execution_count": 41,
   "metadata": {},
   "outputs": [],
   "source": [
    "dataset = pd.DataFrame([])"
   ]
  },
  {
   "attachments": {},
   "cell_type": "markdown",
   "metadata": {},
   "source": [
    "<font size = \"5\">\n",
    "\n",
    "Create two random variables of size ($n = 50$)"
   ]
  },
  {
   "cell_type": "code",
   "execution_count": 42,
   "metadata": {},
   "outputs": [],
   "source": [
    "n = 50\n",
    "dataset[\"x\"] = np.random.normal(loc = 0,scale = 1, size = n)\n",
    "dataset[\"e\"] = np.random.normal(loc = 0,scale = 1, size = n)\n"
   ]
  },
  {
   "attachments": {},
   "cell_type": "markdown",
   "metadata": {},
   "source": [
    "<font size = \"5\">\n",
    "\n",
    "Create data from the linear model\n",
    "\n",
    "$ y = b_0 + b_1 x + e, \\qquad b_0 = 1, b_1 = 2.$"
   ]
  },
  {
   "cell_type": "code",
   "execution_count": 43,
   "metadata": {},
   "outputs": [],
   "source": [
    "# The number b0 is known as the \"intercept\"\n",
    "# The number b1 is known as the \"slope\"\n",
    "\n",
    "b0 = 1\n",
    "b1 = 2\n",
    "\n",
    "# We can compute formulas directly over dataset columns\n",
    "dataset[\"y\"] = b0 + b1 * dataset[\"x\"] + dataset[\"e\"]"
   ]
  },
  {
   "attachments": {},
   "cell_type": "markdown",
   "metadata": {},
   "source": [
    "<font size = \"5\">\n",
    "\n",
    "Compute the theoretically best fit line\n",
    "\n",
    "$ p = b_0 + b_1 x$"
   ]
  },
  {
   "cell_type": "code",
   "execution_count": 44,
   "metadata": {},
   "outputs": [],
   "source": [
    "dataset[\"p\"] = b0 + b1*dataset[\"x\"]"
   ]
  },
  {
   "attachments": {},
   "cell_type": "markdown",
   "metadata": {},
   "source": [
    "<font size = \"5\">\n",
    "\n",
    "Plot the data"
   ]
  },
  {
   "cell_type": "code",
   "execution_count": 45,
   "metadata": {},
   "outputs": [
    {
     "data": {
      "image/png": "[encoded data removed]",
      "text/plain": [
       "<Figure size 640x480 with 1 Axes>"
      ]
     },
     "metadata": {},
     "output_type": "display_data"
    }
   ],
   "source": [
    "plt.scatter(x = dataset[\"x\"], y = dataset[\"y\"])\n",
    "plt.scatter(x = dataset[\"x\"], y = dataset[\"p\"])\n",
    "\n",
    "plt.xlabel(\"X Variable\")\n",
    "plt.ylabel(\"Y Variable\")\n",
    "plt.legend(labels = [\"Data points\", \"Best fit line\"])\n",
    "plt.show()\n"
   ]
  },
  {
   "attachments": {},
   "cell_type": "markdown",
   "metadata": {},
   "source": [
    "<font size = \"5\" >\n",
    "\n",
    "Try it yourself\n",
    "\n",
    "- Create a new dataset called $\\quad$```subset_above2``` \n",
    "- This subsets records with $y \\ge 2$ using $\\quad$```.query()```\n",
    "- Count the original rows $\\quad$ ```len(dataset)```\n",
    "- Count the subsetted rows $\\quad$ ```len(subset_above2)```\n",
    "- Compute the proportion of subsetted observations\n"
   ]
  },
  {
   "cell_type": "code",
   "execution_count": 68,
   "metadata": {},
   "outputs": [
    {
     "data": {
      "text/plain": [
       "0.24"
      ]
     },
     "execution_count": 68,
     "metadata": {},
     "output_type": "execute_result"
    }
   ],
   "source": [
    "# Write your own code here\n",
    "\n",
    "subset_above2 = dataset.query(\"y>=2\")\n",
    "len(dataset)\n",
    "len(subset_above2)\n",
    "\n",
    "len(subset_above2) / len(dataset)\n",
    "\n"
   ]
  },
  {
   "attachments": {},
   "cell_type": "markdown",
   "metadata": {},
   "source": [
    "<font size = \"5\">\n",
    "\n",
    "Try it yourself!\n",
    "\n",
    "- Store the sample mean of $y$ as $\\quad$ ```ybar```\n",
    "- Compute the standard deviation of $y$ $\\quad$ ```stdv_sample```\n",
    "- Use ```.query()``` to subset observations that satisfy\n",
    "\n",
    "$ \\qquad abs\\left(y - ybar \\right) \\le stdv\\_sample $\n",
    "\n",
    "$\\quad$ HINT: Use ```.mean()```,$\\text{ }$ ```.std()``` <br>\n",
    "$\\quad$ HINT: Use the globals  $\\ $ ```@xbar```,$\\text{ }$ ```@stdv_sample```"
   ]
  },
  {
   "cell_type": "code",
   "execution_count": 76,
   "metadata": {},
   "outputs": [
    {
     "data": {
      "text/html": [
       "<div>\n",
       "<style scoped>\n",
       "    .dataframe tbody tr th:only-of-type {\n",
       "        vertical-align: middle;\n",
       "    }\n",
       "\n",
       "    .dataframe tbody tr th {\n",
       "        vertical-align: top;\n",
       "    }\n",
       "\n",
       "    .dataframe thead th {\n",
       "        text-align: right;\n",
       "    }\n",
       "</style>\n",
       "<table border=\"1\" class=\"dataframe\">\n",
       "  <thead>\n",
       "    <tr style=\"text-align: right;\">\n",
       "      <th></th>\n",
       "      <th>x</th>\n",
       "      <th>e</th>\n",
       "      <th>y</th>\n",
       "      <th>p</th>\n",
       "      <th>p_estimated</th>\n",
       "    </tr>\n",
       "  </thead>\n",
       "  <tbody>\n",
       "    <tr>\n",
       "      <th>1</th>\n",
       "      <td>0.052137</td>\n",
       "      <td>-0.757274</td>\n",
       "      <td>0.347000</td>\n",
       "      <td>1.104274</td>\n",
       "      <td>0.970128</td>\n",
       "    </tr>\n",
       "    <tr>\n",
       "      <th>3</th>\n",
       "      <td>-0.138249</td>\n",
       "      <td>-0.330653</td>\n",
       "      <td>0.392850</td>\n",
       "      <td>0.723502</td>\n",
       "      <td>0.612881</td>\n",
       "    </tr>\n",
       "    <tr>\n",
       "      <th>4</th>\n",
       "      <td>1.444698</td>\n",
       "      <td>-2.203779</td>\n",
       "      <td>1.685617</td>\n",
       "      <td>3.889396</td>\n",
       "      <td>3.583185</td>\n",
       "    </tr>\n",
       "    <tr>\n",
       "      <th>5</th>\n",
       "      <td>0.189995</td>\n",
       "      <td>0.223485</td>\n",
       "      <td>1.603475</td>\n",
       "      <td>1.379990</td>\n",
       "      <td>1.228811</td>\n",
       "    </tr>\n",
       "    <tr>\n",
       "      <th>6</th>\n",
       "      <td>-0.812159</td>\n",
       "      <td>0.138100</td>\n",
       "      <td>-0.486217</td>\n",
       "      <td>-0.624317</td>\n",
       "      <td>-0.651669</td>\n",
       "    </tr>\n",
       "    <tr>\n",
       "      <th>8</th>\n",
       "      <td>-1.029938</td>\n",
       "      <td>0.509869</td>\n",
       "      <td>-0.550006</td>\n",
       "      <td>-1.059875</td>\n",
       "      <td>-1.060318</td>\n",
       "    </tr>\n",
       "    <tr>\n",
       "      <th>9</th>\n",
       "      <td>0.248592</td>\n",
       "      <td>-2.072605</td>\n",
       "      <td>-0.575421</td>\n",
       "      <td>1.497185</td>\n",
       "      <td>1.338765</td>\n",
       "    </tr>\n",
       "    <tr>\n",
       "      <th>10</th>\n",
       "      <td>0.468895</td>\n",
       "      <td>0.546208</td>\n",
       "      <td>2.483998</td>\n",
       "      <td>1.937790</td>\n",
       "      <td>1.752150</td>\n",
       "    </tr>\n",
       "    <tr>\n",
       "      <th>11</th>\n",
       "      <td>-0.581979</td>\n",
       "      <td>-0.541569</td>\n",
       "      <td>-0.705528</td>\n",
       "      <td>-0.163959</td>\n",
       "      <td>-0.219752</td>\n",
       "    </tr>\n",
       "    <tr>\n",
       "      <th>17</th>\n",
       "      <td>0.133419</td>\n",
       "      <td>-1.811900</td>\n",
       "      <td>-0.545062</td>\n",
       "      <td>1.266838</td>\n",
       "      <td>1.122649</td>\n",
       "    </tr>\n",
       "    <tr>\n",
       "      <th>18</th>\n",
       "      <td>-0.765352</td>\n",
       "      <td>-0.032989</td>\n",
       "      <td>-0.563693</td>\n",
       "      <td>-0.530704</td>\n",
       "      <td>-0.563839</td>\n",
       "    </tr>\n",
       "    <tr>\n",
       "      <th>20</th>\n",
       "      <td>-0.570065</td>\n",
       "      <td>-0.378980</td>\n",
       "      <td>-0.519109</td>\n",
       "      <td>-0.140129</td>\n",
       "      <td>-0.197395</td>\n",
       "    </tr>\n",
       "    <tr>\n",
       "      <th>21</th>\n",
       "      <td>-0.589854</td>\n",
       "      <td>-0.103777</td>\n",
       "      <td>-0.283485</td>\n",
       "      <td>-0.179707</td>\n",
       "      <td>-0.234527</td>\n",
       "    </tr>\n",
       "    <tr>\n",
       "      <th>22</th>\n",
       "      <td>-0.093965</td>\n",
       "      <td>-0.238907</td>\n",
       "      <td>0.573163</td>\n",
       "      <td>0.812070</td>\n",
       "      <td>0.695978</td>\n",
       "    </tr>\n",
       "    <tr>\n",
       "      <th>23</th>\n",
       "      <td>0.190614</td>\n",
       "      <td>-0.160201</td>\n",
       "      <td>1.221028</td>\n",
       "      <td>1.381229</td>\n",
       "      <td>1.229973</td>\n",
       "    </tr>\n",
       "    <tr>\n",
       "      <th>24</th>\n",
       "      <td>0.267381</td>\n",
       "      <td>-0.937076</td>\n",
       "      <td>0.597686</td>\n",
       "      <td>1.534762</td>\n",
       "      <td>1.374021</td>\n",
       "    </tr>\n",
       "    <tr>\n",
       "      <th>25</th>\n",
       "      <td>-0.189433</td>\n",
       "      <td>-1.618926</td>\n",
       "      <td>-0.997791</td>\n",
       "      <td>0.621135</td>\n",
       "      <td>0.516838</td>\n",
       "    </tr>\n",
       "    <tr>\n",
       "      <th>26</th>\n",
       "      <td>0.248163</td>\n",
       "      <td>-0.013694</td>\n",
       "      <td>1.482631</td>\n",
       "      <td>1.496326</td>\n",
       "      <td>1.337959</td>\n",
       "    </tr>\n",
       "    <tr>\n",
       "      <th>27</th>\n",
       "      <td>0.635035</td>\n",
       "      <td>-0.371522</td>\n",
       "      <td>1.898548</td>\n",
       "      <td>2.270069</td>\n",
       "      <td>2.063901</td>\n",
       "    </tr>\n",
       "    <tr>\n",
       "      <th>28</th>\n",
       "      <td>-0.122829</td>\n",
       "      <td>-0.518314</td>\n",
       "      <td>0.236029</td>\n",
       "      <td>0.754342</td>\n",
       "      <td>0.641816</td>\n",
       "    </tr>\n",
       "    <tr>\n",
       "      <th>30</th>\n",
       "      <td>-0.905613</td>\n",
       "      <td>0.002299</td>\n",
       "      <td>-0.808928</td>\n",
       "      <td>-0.811227</td>\n",
       "      <td>-0.827031</td>\n",
       "    </tr>\n",
       "    <tr>\n",
       "      <th>31</th>\n",
       "      <td>-0.652242</td>\n",
       "      <td>0.200541</td>\n",
       "      <td>-0.103944</td>\n",
       "      <td>-0.304485</td>\n",
       "      <td>-0.351596</td>\n",
       "    </tr>\n",
       "    <tr>\n",
       "      <th>33</th>\n",
       "      <td>-0.135149</td>\n",
       "      <td>0.238137</td>\n",
       "      <td>0.967838</td>\n",
       "      <td>0.729701</td>\n",
       "      <td>0.618697</td>\n",
       "    </tr>\n",
       "    <tr>\n",
       "      <th>35</th>\n",
       "      <td>-0.556972</td>\n",
       "      <td>-0.341066</td>\n",
       "      <td>-0.455010</td>\n",
       "      <td>-0.113944</td>\n",
       "      <td>-0.172827</td>\n",
       "    </tr>\n",
       "    <tr>\n",
       "      <th>36</th>\n",
       "      <td>0.013269</td>\n",
       "      <td>-1.691357</td>\n",
       "      <td>-0.664819</td>\n",
       "      <td>1.026538</td>\n",
       "      <td>0.897196</td>\n",
       "    </tr>\n",
       "    <tr>\n",
       "      <th>37</th>\n",
       "      <td>-1.132033</td>\n",
       "      <td>1.043578</td>\n",
       "      <td>-0.220488</td>\n",
       "      <td>-1.264066</td>\n",
       "      <td>-1.251894</td>\n",
       "    </tr>\n",
       "    <tr>\n",
       "      <th>38</th>\n",
       "      <td>0.060878</td>\n",
       "      <td>-0.608215</td>\n",
       "      <td>0.513542</td>\n",
       "      <td>1.121757</td>\n",
       "      <td>0.986531</td>\n",
       "    </tr>\n",
       "    <tr>\n",
       "      <th>39</th>\n",
       "      <td>0.768989</td>\n",
       "      <td>0.257569</td>\n",
       "      <td>2.795547</td>\n",
       "      <td>2.537978</td>\n",
       "      <td>2.315258</td>\n",
       "    </tr>\n",
       "    <tr>\n",
       "      <th>40</th>\n",
       "      <td>0.295358</td>\n",
       "      <td>-0.926180</td>\n",
       "      <td>0.664536</td>\n",
       "      <td>1.590716</td>\n",
       "      <td>1.426518</td>\n",
       "    </tr>\n",
       "    <tr>\n",
       "      <th>42</th>\n",
       "      <td>-0.677518</td>\n",
       "      <td>-0.526023</td>\n",
       "      <td>-0.881058</td>\n",
       "      <td>-0.355035</td>\n",
       "      <td>-0.399024</td>\n",
       "    </tr>\n",
       "    <tr>\n",
       "      <th>45</th>\n",
       "      <td>-0.384301</td>\n",
       "      <td>0.716126</td>\n",
       "      <td>0.947525</td>\n",
       "      <td>0.231399</td>\n",
       "      <td>0.151180</td>\n",
       "    </tr>\n",
       "    <tr>\n",
       "      <th>46</th>\n",
       "      <td>-0.578001</td>\n",
       "      <td>1.310054</td>\n",
       "      <td>1.154052</td>\n",
       "      <td>-0.156002</td>\n",
       "      <td>-0.212286</td>\n",
       "    </tr>\n",
       "    <tr>\n",
       "      <th>47</th>\n",
       "      <td>-0.246174</td>\n",
       "      <td>0.530826</td>\n",
       "      <td>1.038478</td>\n",
       "      <td>0.507652</td>\n",
       "      <td>0.410366</td>\n",
       "    </tr>\n",
       "    <tr>\n",
       "      <th>48</th>\n",
       "      <td>-1.068529</td>\n",
       "      <td>0.982676</td>\n",
       "      <td>-0.154383</td>\n",
       "      <td>-1.137059</td>\n",
       "      <td>-1.132733</td>\n",
       "    </tr>\n",
       "    <tr>\n",
       "      <th>49</th>\n",
       "      <td>0.342972</td>\n",
       "      <td>0.107420</td>\n",
       "      <td>1.793365</td>\n",
       "      <td>1.685945</td>\n",
       "      <td>1.515864</td>\n",
       "    </tr>\n",
       "  </tbody>\n",
       "</table>\n",
       "</div>"
      ],
      "text/plain": [
       "           x         e         y         p  p_estimated\n",
       "1   0.052137 -0.757274  0.347000  1.104274     0.970128\n",
       "3  -0.138249 -0.330653  0.392850  0.723502     0.612881\n",
       "4   1.444698 -2.203779  1.685617  3.889396     3.583185\n",
       "5   0.189995  0.223485  1.603475  1.379990     1.228811\n",
       "6  -0.812159  0.138100 -0.486217 -0.624317    -0.651669\n",
       "8  -1.029938  0.509869 -0.550006 -1.059875    -1.060318\n",
       "9   0.248592 -2.072605 -0.575421  1.497185     1.338765\n",
       "10  0.468895  0.546208  2.483998  1.937790     1.752150\n",
       "11 -0.581979 -0.541569 -0.705528 -0.163959    -0.219752\n",
       "17  0.133419 -1.811900 -0.545062  1.266838     1.122649\n",
       "18 -0.765352 -0.032989 -0.563693 -0.530704    -0.563839\n",
       "20 -0.570065 -0.378980 -0.519109 -0.140129    -0.197395\n",
       "21 -0.589854 -0.103777 -0.283485 -0.179707    -0.234527\n",
       "22 -0.093965 -0.238907  0.573163  0.812070     0.695978\n",
       "23  0.190614 -0.160201  1.221028  1.381229     1.229973\n",
       "24  0.267381 -0.937076  0.597686  1.534762     1.374021\n",
       "25 -0.189433 -1.618926 -0.997791  0.621135     0.516838\n",
       "26  0.248163 -0.013694  1.482631  1.496326     1.337959\n",
       "27  0.635035 -0.371522  1.898548  2.270069     2.063901\n",
       "28 -0.122829 -0.518314  0.236029  0.754342     0.641816\n",
       "30 -0.905613  0.002299 -0.808928 -0.811227    -0.827031\n",
       "31 -0.652242  0.200541 -0.103944 -0.304485    -0.351596\n",
       "33 -0.135149  0.238137  0.967838  0.729701     0.618697\n",
       "35 -0.556972 -0.341066 -0.455010 -0.113944    -0.172827\n",
       "36  0.013269 -1.691357 -0.664819  1.026538     0.897196\n",
       "37 -1.132033  1.043578 -0.220488 -1.264066    -1.251894\n",
       "38  0.060878 -0.608215  0.513542  1.121757     0.986531\n",
       "39  0.768989  0.257569  2.795547  2.537978     2.315258\n",
       "40  0.295358 -0.926180  0.664536  1.590716     1.426518\n",
       "42 -0.677518 -0.526023 -0.881058 -0.355035    -0.399024\n",
       "45 -0.384301  0.716126  0.947525  0.231399     0.151180\n",
       "46 -0.578001  1.310054  1.154052 -0.156002    -0.212286\n",
       "47 -0.246174  0.530826  1.038478  0.507652     0.410366\n",
       "48 -1.068529  0.982676 -0.154383 -1.137059    -1.132733\n",
       "49  0.342972  0.107420  1.793365  1.685945     1.515864"
      ]
     },
     "execution_count": 76,
     "metadata": {},
     "output_type": "execute_result"
    }
   ],
   "source": [
    "# Note: abs(...) is the absolute value function\n",
    "# Write your own code \n",
    "\n",
    "ybar = dataset[\"y\"].mean()\n",
    "stdv_sample = dataset[\"y\"].std()\n",
    "\n",
    "dataset.query((\"abs(y-@ybar) <= @stdv_sample\"))\n",
    "\n",
    "#query has two possible inputs: a dataset variable, or a variable in the global environment (not in the dataset)\n",
    "# This is why we use @ for ybar and stdv_sample because they are not in the dataset"
   ]
  },
  {
   "attachments": {},
   "cell_type": "markdown",
   "metadata": {},
   "source": [
    "# <span style=\"color:darkblue\"> II. Estimate the best fit line</span>\n"
   ]
  },
  {
   "attachments": {},
   "cell_type": "markdown",
   "metadata": {},
   "source": [
    "<font size = \"5\">\n",
    "\n",
    "We have data on $(y,x)$ but we don't know $(b_0,b_1)$"
   ]
  },
  {
   "attachments": {},
   "cell_type": "markdown",
   "metadata": {},
   "source": [
    "<font size = \"5\">\n",
    "\n",
    "Let's fit an OLS model\n",
    "\n",
    "- It's a statistical approach to get $(b_0,b_1)$\n",
    "- No need to know how it works but why we want it"
   ]
  },
  {
   "cell_type": "code",
   "execution_count": 77,
   "metadata": {},
   "outputs": [],
   "source": [
    "#------------------------------------------------------------------------------#\n",
    "# We use the subfunction \"ols()\" in the library \"smf\"\n",
    "#---- (i) The first argument is a string called \"formula\" with the format \n",
    "#-------- \"outcome ~ indepdent_vars\"\n",
    "#----(ii) the second argument is the dataset\n",
    "# The second line fits the model with standard errors \"cov\". In this case we \n",
    "# use \"robust\" standard errors (HC1)\n",
    "#-------------------------------------------------------------------------------#\n",
    "\n",
    "model   = smf.ols(formula = 'y ~  x',data = dataset)\n",
    "results = model.fit(cov = \"HC1\")\n",
    "\n",
    "# Can also run as one line\n",
    "# results = smf.ols(formula = 'y ~ x',data = dataset).fit(cov = \"HC1\")\n"
   ]
  },
  {
   "attachments": {},
   "cell_type": "markdown",
   "metadata": {},
   "source": [
    "<font size = \"5\">\n",
    "\n",
    "Compute the estimated best fit line"
   ]
  },
  {
   "cell_type": "code",
   "execution_count": 79,
   "metadata": {},
   "outputs": [
    {
     "name": "stdout",
     "output_type": "stream",
     "text": [
      "Intercept    0.872297\n",
      "x            1.876439\n",
      "dtype: float64\n"
     ]
    }
   ],
   "source": [
    "# We will use \".params\" to get the attribute \"parameters from the results\"\n",
    "\n",
    "b_list = results.params\n",
    "print(b_list)\n",
    "\n",
    "# We can then compute the \"estimated\" best fit lines\n",
    "# by extracting the intercept and slop from \"b_list\"\n",
    "\n",
    "dataset[\"p_estimated\"] = b_list[0] + b_list[1]  * dataset[\"x\"]\n",
    "\n",
    "# Note: The estimators for \"b0\" and \"b1\" are close to \n",
    "# the values we used to generate the data\n"
   ]
  },
  {
   "attachments": {},
   "cell_type": "markdown",
   "metadata": {},
   "source": [
    "<font size = \"5\">\n",
    "\n",
    "Plot the best fit line"
   ]
  },
  {
   "cell_type": "code",
   "execution_count": 80,
   "metadata": {},
   "outputs": [
    {
     "data": {
      "image/png": "[encoded data removed]",
      "text/plain": [
       "<Figure size 640x480 with 1 Axes>"
      ]
     },
     "metadata": {},
     "output_type": "display_data"
    }
   ],
   "source": [
    "# Use scatter twice, with different \"y\" inputs\n",
    "# THe \"legend\" command creates a box on with the color labels\n",
    "\n",
    "plt.scatter(x = dataset[\"x\"],y = dataset[\"y\"])\n",
    "plt.scatter(x = dataset[\"x\"],y = dataset[\"p_estimated\"])\n",
    "\n",
    "plt.legend(labels = [\"Data points\",\"Estimated Predicted Model\"])\n",
    "plt.show()\n"
   ]
  },
  {
   "attachments": {},
   "cell_type": "markdown",
   "metadata": {},
   "source": [
    "<font size = \"5\">\n",
    "\n",
    "Try it yourself!\n",
    "- How good is the estimated fit?\n",
    "- Create two overlapping scatterplots\n",
    "- $(p \\text{ }$ vs $\\text{ } x)$ and $(p_{estimated} \\text{ }$ vs $\\text{ } x)$\n",
    "- Create a legend to label each plot"
   ]
  },
  {
   "cell_type": "code",
   "execution_count": 94,
   "metadata": {},
   "outputs": [
    {
     "data": {
      "image/png": "[encoded data removed]",
      "text/plain": [
       "<Figure size 640x480 with 1 Axes>"
      ]
     },
     "metadata": {},
     "output_type": "display_data"
    }
   ],
   "source": [
    "# Write your own code\n",
    "mymodel = smf.ols(formula = \"y ~ x\", data = dataset)\n",
    "myresults = mymodel.fit()\n",
    "\n",
    "plt.scatter(x = dataset[\"x\"],y = dataset[\"p\"])\n",
    "plt.scatter(x = dataset[\"x\"],y = dataset[\"p_estimated\"])\n",
    "\n",
    "plt.legend(labels = [\"Theoretical Best Fit\",\"Estimated Best Fit\"])\n",
    "plt.show()\n",
    "\n",
    "\n",
    "\n",
    "\n"
   ]
  },
  {
   "attachments": {},
   "cell_type": "markdown",
   "metadata": {},
   "source": [
    "<font size = \"5\">\n",
    "\n",
    "Try it youself\n",
    "\n",
    "- Compute a column with the formula\n",
    "\n",
    "$\\quad$ ``` sample_error = y - p_estimated```\n",
    "\n",
    "- Create a lambda function <br>\n",
    "\n",
    "$\\quad$ ``` fn_positive_error  error: error >= 0  ```\n",
    "\n",
    "- Compute a column for whether the error is positive <br>\n",
    "using ``` .apply()```\n",
    "\n"
   ]
  },
  {
   "cell_type": "code",
   "execution_count": 99,
   "metadata": {},
   "outputs": [],
   "source": [
    "# Write your own code\n",
    "dataset[\"sample_error\"] = dataset[\"y\"] - dataset[\"p_estimated\"]\n",
    "\n",
    "fn_positive_error = lambda sample_error: sample_error >=0\n",
    "\n",
    "dataset[\"error_check\"] = dataset[\"sample_error\"].apply(fn_positive_error)\n"
   ]
  },
  {
   "attachments": {},
   "cell_type": "markdown",
   "metadata": {},
   "source": [
    "<font size = \"5\">\n",
    "\n",
    "Try it yourself\n",
    "\n",
    "- Compute a new column <br>\n",
    "\n",
    "```error_sqr = sample_error ** 2```\n",
    "\n",
    "- Calculate the mean of ```error_sqr```"
   ]
  },
  {
   "cell_type": "code",
   "execution_count": 52,
   "metadata": {},
   "outputs": [],
   "source": [
    "# Write your own code\n",
    "\n",
    "\n",
    "\n",
    "\n",
    "\n",
    "\n",
    "\n"
   ]
  }
 ],
 "metadata": {
  "kernelspec": {
   "display_name": "Python 3",
   "language": "python",
   "name": "python3"
  },
  "language_info": {
   "codemirror_mode": {
    "name": "ipython",
    "version": 3
   },
   "file_extension": ".py",
   "mimetype": "text/x-python",
   "name": "python",
   "nbconvert_exporter": "python",
   "pygments_lexer": "ipython3",
   "version": "3.11.1"
  },
  "orig_nbformat": 4,
  "vscode": {
   "interpreter": {
    "hash": "aee8b7b246df8f9039afb4144a1f6fd8d2ca17a180786b69acc140d282b71a49"
   }
  }
 },
 "nbformat": 4,
 "nbformat_minor": 2
}
