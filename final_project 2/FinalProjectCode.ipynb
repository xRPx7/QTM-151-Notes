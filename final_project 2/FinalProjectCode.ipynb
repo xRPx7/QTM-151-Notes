{
 "cells": [
  {
   "attachments": {},
   "cell_type": "markdown",
   "metadata": {},
   "source": [
    "Rohan Patel, \n",
    "QTM 151-3 Final Project \n",
    "\n",
    "Introduction:\n",
    "\n",
    "Formula 1 is an international racing competition, taking place throughout the world.It is widely considered as the pinnicle of racing, and it draws millions of fans annually. Like most other sports, there is a significant debate over its greatest drivers. Through data analysis techniques, we hope to come up with a definitive conclusion about who the greatest Formula 1 driver is. Getting a definitive answer over who may be Formula 1's greatest driver, would be incredibly important for Formula 1 fans, which is what we hope to conclude. \n",
    "\n",
    "We hope to compute aggregate and descriptive statistics for driver positions, points, wins,etc. to see which drivers consistently perform at the top. Of course we'd need to subset drivers with a certain number of races, to ensure a large enough sample, to get reliable results. We hope to use joining and data cleaning to get a clean dataset where we can then compute aggregate and descriptive statistics to try and see who the greatest Formula 1 driver truly is. \n",
    "\n"
   ]
  },
  {
   "attachments": {},
   "cell_type": "markdown",
   "metadata": {},
   "source": [
    "Data Description:\n",
    "\n",
    "We will most likely use only the results and drivers datasets. The results dataset includes the results for every driver in every race from 1950 to the present day. As a result, it has an incredibly large amount of observations/rows, 25,840 to be exact, as each row represent each driver's result in every race. The drivers dataset includes biographical information for every driver who has ever driven in Formula 1. Each observation represents a singular driver in Formula 1's history, and there have been 857 different drivers in its history. "
   ]
  },
  {
   "cell_type": "code",
   "execution_count": 1,
   "metadata": {},
   "outputs": [],
   "source": [
    "import pandas as pd\n",
    "import numpy as np\n",
    "import matplotlib.pyplot as plt"
   ]
  },
  {
   "cell_type": "code",
   "execution_count": 2,
   "metadata": {},
   "outputs": [],
   "source": [
    "results = pd.read_csv(\"/Users/rohanpatel/Documents/GitHub/QTM-151-Notes/final_project 2/data_raw/results.csv\")\n",
    "drivers = pd.read_csv(\"/Users/rohanpatel/Documents/GitHub/QTM-151-Notes/final_project 2/data_raw/drivers.csv\")\n",
    "\n",
    "# drivers has 857 rows\n",
    "# results has 25,840 rows"
   ]
  },
  {
   "attachments": {},
   "cell_type": "markdown",
   "metadata": {},
   "source": [
    "Merging Prodcedures:\n",
    "\n",
    "The driver names are located in the drivers dataset, while all the race results are located in the results dataset. As a result, we will need to join the two dataset to create a larger dataset which includes all the information we would likely need. So we will need to use the merge function to join them. We will use the specific driverId, forename, and surname columns from drivers as our primary dataset, and use results as our secondary dataset that we will join onto the primary dataset. \"driverId\" is located in both datasets, so that will be the variable that we join on. Now we have a larger dataset which includes all the results, as well as the driver names. \n"
   ]
  },
  {
   "cell_type": "code",
   "execution_count": 55,
   "metadata": {},
   "outputs": [],
   "source": [
    "results_merged = pd.merge(drivers[[\"driverId\",\"forename\",\"surname\"]],\n",
    "                          results,\n",
    "                          on = \"driverId\",\n",
    "                          how = \"left\" )"
   ]
  },
  {
   "attachments": {},
   "cell_type": "markdown",
   "metadata": {},
   "source": [
    "Data Cleaning"
   ]
  },
  {
   "attachments": {},
   "cell_type": "markdown",
   "metadata": {},
   "source": [
    "The dataset is generally clean, just some small adjustments are needed to ensure it is in the perfect condition for analysis. The first set of code just combines the forename and surname columns into a new column called driver_name, so we can just query one column to get specific drivers. The second set of code allows us to remove any non-numeric/na values from our position column. In F1, a lot of races end early for drivers because of mechanical failure, driver crashes, etc. Generally, these type of results are due to a mix of car error and driver error and we are not able to discern that, so we will conduct analysis on the defined numerical finishing positions. "
   ]
  },
  {
   "cell_type": "code",
   "execution_count": 56,
   "metadata": {},
   "outputs": [],
   "source": [
    "results_merged[\"driver_name\"] = results_merged[\"forename\"] + \" \" + results_merged[\"surname\"]\n",
    "\n",
    "results_merged[\"position\"] = pd.to_numeric(results_merged[\"position\"],errors='coerce')\n",
    "results_merged =results_merged.dropna(subset=[\"position\"])"
   ]
  },
  {
   "attachments": {},
   "cell_type": "markdown",
   "metadata": {},
   "source": [
    "Main Columns / Aggregation"
   ]
  },
  {
   "attachments": {},
   "cell_type": "markdown",
   "metadata": {},
   "source": [
    "The main three columns we are using are: driver_name, position, and points. The drive_name column gives us a way to identify the drivers, the position column refers to how they finished in the race, and the points column depicts the F1 points resulting from the position. F1 points are what are used to decide championships and each point allotment corresponds to a position. Then we aggregated the data, and created a new dataframe with the mean points for each driver and the mean finishing position for each driver. The next step is to analyze and visualize this data. "
   ]
  },
  {
   "cell_type": "code",
   "execution_count": 93,
   "metadata": {},
   "outputs": [],
   "source": [
    "mean_results_position = (results_merged.groupby(\"driver_name\", as_index = False)\n",
    " .agg(mean_position = (\"position\",\"mean\"),\n",
    "      count_races = (\"position\",len),)\n",
    " .sort_values(by=\"mean_position\",ascending=True))\n",
    "\n",
    "\n",
    "\n",
    "\n",
    "mean_results_points = (results_merged.groupby(\"driver_name\",as_index = False)\n",
    " .agg(mean_points = (\"points\",\"mean\"),\n",
    "      count_races = (\"points\",len))\n",
    " .sort_values(by=\"mean_points\",ascending=False))\n",
    "\n",
    "\n",
    "\n",
    "\n",
    "\n",
    "# Why are they different??"
   ]
  },
  {
   "attachments": {},
   "cell_type": "markdown",
   "metadata": {},
   "source": [
    "Results"
   ]
  },
  {
   "attachments": {},
   "cell_type": "markdown",
   "metadata": {},
   "source": [
    "When we looked at our aggregated statistics, we found that the mean was skewed for certain drivers with a smaller sample of races. To be the greatest athelete in any sport, you need to show your talent over a large enough sample, so we decided to limit the sample to drivers over 150 races finished. Looking at the aggregated data for position, we see that Lewis Hamilton and Michael Schumacher are far ahead of anyone else. However, when we looked at points, Schumacher was farther down the board. After further research, we learned that the F1 points system has changed significantly over the years. As a result, using points to compare drivers across different periods is a disingenous comparison, so we narrowed our focus to just position. Based on the data, it seems that Lewis Hamilton is the greatest Formula 1 driver of all time, but Michael Schumacher is a close second, and everyone else is a decent bit far behind. "
   ]
  },
  {
   "cell_type": "code",
   "execution_count": 94,
   "metadata": {},
   "outputs": [],
   "source": [
    "final_results_position = mean_results_position.query(\"count_races >= 150\")\n",
    "final_results_points = mean_results_points.query(\"count_races >= 150\")"
   ]
  },
  {
   "cell_type": "code",
   "execution_count": 87,
   "metadata": {},
   "outputs": [
    {
     "data": {
      "text/html": [
       "<div>\n",
       "<style scoped>\n",
       "    .dataframe tbody tr th:only-of-type {\n",
       "        vertical-align: middle;\n",
       "    }\n",
       "\n",
       "    .dataframe tbody tr th {\n",
       "        vertical-align: top;\n",
       "    }\n",
       "\n",
       "    .dataframe thead th {\n",
       "        text-align: right;\n",
       "    }\n",
       "</style>\n",
       "<table border=\"1\" class=\"dataframe\">\n",
       "  <thead>\n",
       "    <tr style=\"text-align: right;\">\n",
       "      <th></th>\n",
       "      <th>driver_name</th>\n",
       "      <th>mean_position</th>\n",
       "      <th>count_races</th>\n",
       "    </tr>\n",
       "  </thead>\n",
       "  <tbody>\n",
       "    <tr>\n",
       "      <th>384</th>\n",
       "      <td>Lewis Hamilton</td>\n",
       "      <td>3.383803</td>\n",
       "      <td>284</td>\n",
       "    </tr>\n",
       "    <tr>\n",
       "      <th>427</th>\n",
       "      <td>Michael Schumacher</td>\n",
       "      <td>3.701245</td>\n",
       "      <td>241</td>\n",
       "    </tr>\n",
       "    <tr>\n",
       "      <th>575</th>\n",
       "      <td>Sebastian Vettel</td>\n",
       "      <td>5.282443</td>\n",
       "      <td>262</td>\n",
       "    </tr>\n",
       "    <tr>\n",
       "      <th>123</th>\n",
       "      <td>David Coulthard</td>\n",
       "      <td>5.828402</td>\n",
       "      <td>169</td>\n",
       "    </tr>\n",
       "    <tr>\n",
       "      <th>371</th>\n",
       "      <td>Kimi Räikkönen</td>\n",
       "      <td>6.238596</td>\n",
       "      <td>285</td>\n",
       "    </tr>\n",
       "    <tr>\n",
       "      <th>180</th>\n",
       "      <td>Fernando Alonso</td>\n",
       "      <td>6.257732</td>\n",
       "      <td>291</td>\n",
       "    </tr>\n",
       "    <tr>\n",
       "      <th>627</th>\n",
       "      <td>Valtteri Bottas</td>\n",
       "      <td>6.296089</td>\n",
       "      <td>179</td>\n",
       "    </tr>\n",
       "    <tr>\n",
       "      <th>455</th>\n",
       "      <td>Nico Rosberg</td>\n",
       "      <td>6.355932</td>\n",
       "      <td>177</td>\n",
       "    </tr>\n",
       "    <tr>\n",
       "      <th>411</th>\n",
       "      <td>Mark Webber</td>\n",
       "      <td>6.600000</td>\n",
       "      <td>160</td>\n",
       "    </tr>\n",
       "    <tr>\n",
       "      <th>565</th>\n",
       "      <td>Rubens Barrichello</td>\n",
       "      <td>7.056769</td>\n",
       "      <td>229</td>\n",
       "    </tr>\n",
       "    <tr>\n",
       "      <th>178</th>\n",
       "      <td>Felipe Massa</td>\n",
       "      <td>7.266376</td>\n",
       "      <td>229</td>\n",
       "    </tr>\n",
       "    <tr>\n",
       "      <th>300</th>\n",
       "      <td>Jenson Button</td>\n",
       "      <td>7.409091</td>\n",
       "      <td>242</td>\n",
       "    </tr>\n",
       "    <tr>\n",
       "      <th>214</th>\n",
       "      <td>Giancarlo Fisichella</td>\n",
       "      <td>8.228395</td>\n",
       "      <td>162</td>\n",
       "    </tr>\n",
       "    <tr>\n",
       "      <th>116</th>\n",
       "      <td>Daniel Ricciardo</td>\n",
       "      <td>8.261538</td>\n",
       "      <td>195</td>\n",
       "    </tr>\n",
       "    <tr>\n",
       "      <th>578</th>\n",
       "      <td>Sergio Pérez</td>\n",
       "      <td>8.350711</td>\n",
       "      <td>211</td>\n",
       "    </tr>\n",
       "    <tr>\n",
       "      <th>288</th>\n",
       "      <td>Jarno Trulli</td>\n",
       "      <td>9.470588</td>\n",
       "      <td>170</td>\n",
       "    </tr>\n",
       "  </tbody>\n",
       "</table>\n",
       "</div>"
      ],
      "text/plain": [
       "              driver_name  mean_position  count_races\n",
       "384        Lewis Hamilton       3.383803          284\n",
       "427    Michael Schumacher       3.701245          241\n",
       "575      Sebastian Vettel       5.282443          262\n",
       "123       David Coulthard       5.828402          169\n",
       "371        Kimi Räikkönen       6.238596          285\n",
       "180       Fernando Alonso       6.257732          291\n",
       "627       Valtteri Bottas       6.296089          179\n",
       "455          Nico Rosberg       6.355932          177\n",
       "411           Mark Webber       6.600000          160\n",
       "565    Rubens Barrichello       7.056769          229\n",
       "178          Felipe Massa       7.266376          229\n",
       "300         Jenson Button       7.409091          242\n",
       "214  Giancarlo Fisichella       8.228395          162\n",
       "116      Daniel Ricciardo       8.261538          195\n",
       "578          Sergio Pérez       8.350711          211\n",
       "288          Jarno Trulli       9.470588          170"
      ]
     },
     "execution_count": 87,
     "metadata": {},
     "output_type": "execute_result"
    }
   ],
   "source": [
    "final_results_points\n"
   ]
  },
  {
   "cell_type": "code",
   "execution_count": 91,
   "metadata": {},
   "outputs": [
    {
     "data": {
      "text/html": [
       "<div>\n",
       "<style scoped>\n",
       "    .dataframe tbody tr th:only-of-type {\n",
       "        vertical-align: middle;\n",
       "    }\n",
       "\n",
       "    .dataframe tbody tr th {\n",
       "        vertical-align: top;\n",
       "    }\n",
       "\n",
       "    .dataframe thead th {\n",
       "        text-align: right;\n",
       "    }\n",
       "</style>\n",
       "<table border=\"1\" class=\"dataframe\">\n",
       "  <thead>\n",
       "    <tr style=\"text-align: right;\">\n",
       "      <th></th>\n",
       "      <th>driver_name</th>\n",
       "      <th>mean_position</th>\n",
       "      <th>count_races</th>\n",
       "    </tr>\n",
       "  </thead>\n",
       "  <tbody>\n",
       "    <tr>\n",
       "      <th>384</th>\n",
       "      <td>Lewis Hamilton</td>\n",
       "      <td>3.383803</td>\n",
       "      <td>284</td>\n",
       "    </tr>\n",
       "    <tr>\n",
       "      <th>427</th>\n",
       "      <td>Michael Schumacher</td>\n",
       "      <td>3.701245</td>\n",
       "      <td>241</td>\n",
       "    </tr>\n",
       "    <tr>\n",
       "      <th>575</th>\n",
       "      <td>Sebastian Vettel</td>\n",
       "      <td>5.282443</td>\n",
       "      <td>262</td>\n",
       "    </tr>\n",
       "    <tr>\n",
       "      <th>123</th>\n",
       "      <td>David Coulthard</td>\n",
       "      <td>5.828402</td>\n",
       "      <td>169</td>\n",
       "    </tr>\n",
       "    <tr>\n",
       "      <th>371</th>\n",
       "      <td>Kimi Räikkönen</td>\n",
       "      <td>6.238596</td>\n",
       "      <td>285</td>\n",
       "    </tr>\n",
       "    <tr>\n",
       "      <th>180</th>\n",
       "      <td>Fernando Alonso</td>\n",
       "      <td>6.257732</td>\n",
       "      <td>291</td>\n",
       "    </tr>\n",
       "    <tr>\n",
       "      <th>627</th>\n",
       "      <td>Valtteri Bottas</td>\n",
       "      <td>6.296089</td>\n",
       "      <td>179</td>\n",
       "    </tr>\n",
       "    <tr>\n",
       "      <th>455</th>\n",
       "      <td>Nico Rosberg</td>\n",
       "      <td>6.355932</td>\n",
       "      <td>177</td>\n",
       "    </tr>\n",
       "    <tr>\n",
       "      <th>411</th>\n",
       "      <td>Mark Webber</td>\n",
       "      <td>6.600000</td>\n",
       "      <td>160</td>\n",
       "    </tr>\n",
       "    <tr>\n",
       "      <th>565</th>\n",
       "      <td>Rubens Barrichello</td>\n",
       "      <td>7.056769</td>\n",
       "      <td>229</td>\n",
       "    </tr>\n",
       "    <tr>\n",
       "      <th>178</th>\n",
       "      <td>Felipe Massa</td>\n",
       "      <td>7.266376</td>\n",
       "      <td>229</td>\n",
       "    </tr>\n",
       "    <tr>\n",
       "      <th>300</th>\n",
       "      <td>Jenson Button</td>\n",
       "      <td>7.409091</td>\n",
       "      <td>242</td>\n",
       "    </tr>\n",
       "    <tr>\n",
       "      <th>214</th>\n",
       "      <td>Giancarlo Fisichella</td>\n",
       "      <td>8.228395</td>\n",
       "      <td>162</td>\n",
       "    </tr>\n",
       "    <tr>\n",
       "      <th>116</th>\n",
       "      <td>Daniel Ricciardo</td>\n",
       "      <td>8.261538</td>\n",
       "      <td>195</td>\n",
       "    </tr>\n",
       "    <tr>\n",
       "      <th>578</th>\n",
       "      <td>Sergio Pérez</td>\n",
       "      <td>8.350711</td>\n",
       "      <td>211</td>\n",
       "    </tr>\n",
       "    <tr>\n",
       "      <th>288</th>\n",
       "      <td>Jarno Trulli</td>\n",
       "      <td>9.470588</td>\n",
       "      <td>170</td>\n",
       "    </tr>\n",
       "  </tbody>\n",
       "</table>\n",
       "</div>"
      ],
      "text/plain": [
       "              driver_name  mean_position  count_races\n",
       "384        Lewis Hamilton       3.383803          284\n",
       "427    Michael Schumacher       3.701245          241\n",
       "575      Sebastian Vettel       5.282443          262\n",
       "123       David Coulthard       5.828402          169\n",
       "371        Kimi Räikkönen       6.238596          285\n",
       "180       Fernando Alonso       6.257732          291\n",
       "627       Valtteri Bottas       6.296089          179\n",
       "455          Nico Rosberg       6.355932          177\n",
       "411           Mark Webber       6.600000          160\n",
       "565    Rubens Barrichello       7.056769          229\n",
       "178          Felipe Massa       7.266376          229\n",
       "300         Jenson Button       7.409091          242\n",
       "214  Giancarlo Fisichella       8.228395          162\n",
       "116      Daniel Ricciardo       8.261538          195\n",
       "578          Sergio Pérez       8.350711          211\n",
       "288          Jarno Trulli       9.470588          170"
      ]
     },
     "execution_count": 91,
     "metadata": {},
     "output_type": "execute_result"
    }
   ],
   "source": [
    "final_results_position"
   ]
  },
  {
   "cell_type": "code",
   "execution_count": 89,
   "metadata": {},
   "outputs": [
    {
     "data": {
      "text/plain": [
       "Text(0.5, 1.0, 'Average Finishing Position for Formula 1 Drivers with at least 150 Races Finished')"
      ]
     },
     "execution_count": 89,
     "metadata": {},
     "output_type": "execute_result"
    },
    {
     "data": {
      "image/png": "[encoded data removed]",
      "text/plain": [
       "<Figure size 640x480 with 1 Axes>"
      ]
     },
     "metadata": {},
     "output_type": "display_data"
    }
   ],
   "source": [
    "final_results_position_sorted = final_results_position.sort_values(\"mean_position\",ascending=False)\n",
    "\n",
    "\n",
    "\n",
    "plt.barh(data=final_results_position_sorted,y=\"driver_name\",width=\"mean_position\",color=\"green\")\n",
    "plt.xlabel(\"Average Finishing Position\")\n",
    "plt.title(\"Average Finishing Position for Formula 1 Drivers with at least 150 Races Finished\")"
   ]
  },
  {
   "attachments": {},
   "cell_type": "markdown",
   "metadata": {},
   "source": [
    "Findings"
   ]
  },
  {
   "attachments": {},
   "cell_type": "markdown",
   "metadata": {},
   "source": [
    "Looking at the data, it was clear that the debate over Formula One's greatest driver came down to two drivers, Lewis Hamilton and Michael Schumacher. Based on our data analysis, it appears that Lewis Hamilton has a slight edge over Schumacher. However, Formula One driver analysis likely goes much farther beyond simply statistics and results, but based on the available data, it seems like Hamilton is Formula One's greatest driver. It was quite impressive to see how much of a gap those two built to the rest of the drivers, which speaks to their unbelievable talent. Through analyzing the data, we learned a lot about Formula One, especially its greatest drivers."
   ]
  }
 ],
 "metadata": {
  "kernelspec": {
   "display_name": "base",
   "language": "python",
   "name": "python3"
  },
  "language_info": {
   "codemirror_mode": {
    "name": "ipython",
    "version": 3
   },
   "file_extension": ".py",
   "mimetype": "text/x-python",
   "name": "python",
   "nbconvert_exporter": "python",
   "pygments_lexer": "ipython3",
   "version": "3.9.13"
  },
  "orig_nbformat": 4
 },
 "nbformat": 4,
 "nbformat_minor": 2
}
