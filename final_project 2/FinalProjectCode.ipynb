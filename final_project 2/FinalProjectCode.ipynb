{
 "cells": [
  {
   "attachments": {},
   "cell_type": "markdown",
   "metadata": {},
   "source": [
    "Rohan Patel, \n",
    "QTM 151-3 Final Project \n",
    "\n",
    "Introduction:\n",
    "\n",
    "Formula 1 is an international racing competition, taking place throughout the world.It is widely considered as the pinnicle of racing, and it draws millions of fans annually. Like most other sports, there is a significant debate over its greatest drivers. Through data analysis techniques, we hope to come up with a definitive conclusion about who the greatest Formula 1 driver is. Getting a definitive answer over who may be Formula 1's greatest driver, would be incredibly important for Formula 1 fans, which is what we hope to conclude. \n",
    "\n",
    "We hope to compute aggregate and descriptive statistics for driver positions, points, wins,etc. to see which drivers consistently perform at the top. Of course we'd need to subset drivers with a certain number of races, to ensure a large enough sample, to get reliable results. We hope to use joining and data cleaning to get a clean dataset where we can then compute aggregate and descriptive statistics to try and see who the greatest Formula 1 driver truly is. \n",
    "\n"
   ]
  },
  {
   "attachments": {},
   "cell_type": "markdown",
   "metadata": {},
   "source": [
    "Data Description:\n",
    "\n",
    "We will most likely use only the results and drivers datasets. The results dataset includes the results for every driver in every race from 1950 to the present day. As a result, it has an incredibly large amount of observations/rows, 25,840 to be exact, as each row represent each driver's result in every race. The drivers dataset includes biographical information for every driver who has ever driven in Formula 1. Each observation represents a singular driver in Formula 1's history, and there have been 857 different drivers in its history. "
   ]
  },
  {
   "cell_type": "code",
   "execution_count": 1,
   "metadata": {},
   "outputs": [],
   "source": [
    "import pandas as pd\n",
    "import numpy as np\n",
    "import matplotlib.pyplot as plt"
   ]
  },
  {
   "cell_type": "code",
   "execution_count": 3,
   "metadata": {},
   "outputs": [],
   "source": [
    "results = pd.read_csv(\"/Users/rohanpatel/Documents/GitHub/QTM-151-Notes/final_project 2/data_raw/results.csv\")\n",
    "drivers = pd.read_csv(\"/Users/rohanpatel/Documents/GitHub/QTM-151-Notes/final_project 2/data_raw/drivers.csv\")"
   ]
  }
 ],
 "metadata": {
  "kernelspec": {
   "display_name": "base",
   "language": "python",
   "name": "python3"
  },
  "language_info": {
   "codemirror_mode": {
    "name": "ipython",
    "version": 3
   },
   "file_extension": ".py",
   "mimetype": "text/x-python",
   "name": "python",
   "nbconvert_exporter": "python",
   "pygments_lexer": "ipython3",
   "version": "3.9.13"
  },
  "orig_nbformat": 4
 },
 "nbformat": 4,
 "nbformat_minor": 2
}
